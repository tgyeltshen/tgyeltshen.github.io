{
 "cells": [
  {
   "cell_type": "markdown",
   "metadata": {},
   "source": [
    "# Leaflet cluster map of talk locations\n",
    "\n",
    "Assuming you are working in a Linux or Windows Subsystem for Linux environment, you may need to install some dependencies. Assuming a clean installation, the following will be needed:\n",
    "\n",
    "```bash\n",
    "sudo apt install jupyter\n",
    "sudo apt install python3-pip\n",
    "pip install python-frontmatter getorg --upgrade\n",
    "```\n",
    "\n",
    "After which you can run this from the `_talks/` directory, via:\n",
    "\n",
    "```bash\n",
    " jupyter nbconvert --to notebook --execute talkmap.ipynb --output talkmap_out.ipynb\n",
    "```\n",
    " \n",
    "The `_talks/` directory contains `.md` files of all your talks. This scrapes the location YAML field from each `.md` file, geolocates it with `geopy/Nominatim`, and uses the `getorg` library to output data, HTML, and Javascript for a standalone cluster map."
   ]
  },
  {
   "cell_type": "code",
   "execution_count": 1,
   "metadata": {
    "collapsed": false,
    "execution": {
     "iopub.execute_input": "2025-09-26T03:08:40.513696Z",
     "iopub.status.busy": "2025-09-26T03:08:40.513523Z",
     "iopub.status.idle": "2025-09-26T03:08:41.636118Z",
     "shell.execute_reply": "2025-09-26T03:08:41.635366Z"
    }
   },
   "outputs": [
    {
     "name": "stdout",
     "output_type": "stream",
     "text": [
      "Collecting python-frontmatter\r\n",
      "  Downloading python_frontmatter-1.1.0-py3-none-any.whl.metadata (4.1 kB)\r\n",
      "Requirement already satisfied: getorg in /opt/hostedtoolcache/Python/3.9.23/x64/lib/python3.9/site-packages (0.3.1)\r\n",
      "Requirement already satisfied: PyYAML in /opt/hostedtoolcache/Python/3.9.23/x64/lib/python3.9/site-packages (from python-frontmatter) (6.0.3)\r\n",
      "Requirement already satisfied: geopy in /opt/hostedtoolcache/Python/3.9.23/x64/lib/python3.9/site-packages (from getorg) (2.4.1)\r\n",
      "Requirement already satisfied: pygithub in /opt/hostedtoolcache/Python/3.9.23/x64/lib/python3.9/site-packages (from getorg) (2.8.1)\r\n",
      "Requirement already satisfied: retrying in /opt/hostedtoolcache/Python/3.9.23/x64/lib/python3.9/site-packages (from getorg) (1.4.2)\r\n",
      "Requirement already satisfied: geographiclib<3,>=1.52 in /opt/hostedtoolcache/Python/3.9.23/x64/lib/python3.9/site-packages (from geopy->getorg) (2.1)\r\n",
      "Requirement already satisfied: pynacl>=1.4.0 in /opt/hostedtoolcache/Python/3.9.23/x64/lib/python3.9/site-packages (from pygithub->getorg) (1.6.0)\r\n",
      "Requirement already satisfied: requests>=2.14.0 in /opt/hostedtoolcache/Python/3.9.23/x64/lib/python3.9/site-packages (from pygithub->getorg) (2.32.5)\r\n",
      "Requirement already satisfied: pyjwt>=2.4.0 in /opt/hostedtoolcache/Python/3.9.23/x64/lib/python3.9/site-packages (from pyjwt[crypto]>=2.4.0->pygithub->getorg) (2.10.1)\r\n",
      "Requirement already satisfied: typing-extensions>=4.5.0 in /opt/hostedtoolcache/Python/3.9.23/x64/lib/python3.9/site-packages (from pygithub->getorg) (4.15.0)\r\n",
      "Requirement already satisfied: urllib3>=1.26.0 in /opt/hostedtoolcache/Python/3.9.23/x64/lib/python3.9/site-packages (from pygithub->getorg) (2.5.0)\r\n"
     ]
    },
    {
     "name": "stdout",
     "output_type": "stream",
     "text": [
      "Requirement already satisfied: cryptography>=3.4.0 in /opt/hostedtoolcache/Python/3.9.23/x64/lib/python3.9/site-packages (from pyjwt[crypto]>=2.4.0->pygithub->getorg) (46.0.1)\r\n",
      "Requirement already satisfied: cffi>=2.0.0 in /opt/hostedtoolcache/Python/3.9.23/x64/lib/python3.9/site-packages (from cryptography>=3.4.0->pyjwt[crypto]>=2.4.0->pygithub->getorg) (2.0.0)\r\n",
      "Requirement already satisfied: pycparser in /opt/hostedtoolcache/Python/3.9.23/x64/lib/python3.9/site-packages (from cffi>=2.0.0->cryptography>=3.4.0->pyjwt[crypto]>=2.4.0->pygithub->getorg) (2.23)\r\n",
      "Requirement already satisfied: charset_normalizer<4,>=2 in /opt/hostedtoolcache/Python/3.9.23/x64/lib/python3.9/site-packages (from requests>=2.14.0->pygithub->getorg) (3.4.3)\r\n",
      "Requirement already satisfied: idna<4,>=2.5 in /opt/hostedtoolcache/Python/3.9.23/x64/lib/python3.9/site-packages (from requests>=2.14.0->pygithub->getorg) (3.10)\r\n",
      "Requirement already satisfied: certifi>=2017.4.17 in /opt/hostedtoolcache/Python/3.9.23/x64/lib/python3.9/site-packages (from requests>=2.14.0->pygithub->getorg) (2025.8.3)\r\n",
      "Downloading python_frontmatter-1.1.0-py3-none-any.whl (9.8 kB)\r\n"
     ]
    },
    {
     "name": "stdout",
     "output_type": "stream",
     "text": [
      "Installing collected packages: python-frontmatter\r\n",
      "Successfully installed python-frontmatter-1.1.0\r\n"
     ]
    },
    {
     "name": "stdout",
     "output_type": "stream",
     "text": [
      "Iywidgets and ipyleaflet support disabled. You must be in a Jupyter notebook to use this feature.\n",
      "Error raised:\n",
      "No module named 'ipyleaflet'\n",
      "Check that you have enabled ipyleaflet in Jupyter with:\n",
      "    jupyter nbextension enable --py ipyleaflet\n"
     ]
    }
   ],
   "source": [
    "# Start by installing the dependencies\n",
    "!pip install python-frontmatter getorg --upgrade\n",
    "import frontmatter\n",
    "import glob\n",
    "import getorg\n",
    "from geopy import Nominatim\n",
    "from geopy.exc import GeocoderTimedOut"
   ]
  },
  {
   "cell_type": "code",
   "execution_count": 2,
   "metadata": {
    "collapsed": false,
    "execution": {
     "iopub.execute_input": "2025-09-26T03:08:41.638246Z",
     "iopub.status.busy": "2025-09-26T03:08:41.638002Z",
     "iopub.status.idle": "2025-09-26T03:08:41.641333Z",
     "shell.execute_reply": "2025-09-26T03:08:41.640791Z"
    }
   },
   "outputs": [],
   "source": [
    "# Collect the Markdown files\n",
    "g = glob.glob(\"_talks/*.md\")"
   ]
  },
  {
   "cell_type": "code",
   "execution_count": 3,
   "metadata": {
    "collapsed": true,
    "execution": {
     "iopub.execute_input": "2025-09-26T03:08:41.643073Z",
     "iopub.status.busy": "2025-09-26T03:08:41.642904Z",
     "iopub.status.idle": "2025-09-26T03:08:41.668852Z",
     "shell.execute_reply": "2025-09-26T03:08:41.668224Z"
    }
   },
   "outputs": [],
   "source": [
    "# Set the default timeout, in seconds\n",
    "TIMEOUT = 5\n",
    "\n",
    "# Prepare to geolocate\n",
    "geocoder = Nominatim(user_agent=\"academicpages.github.io\")\n",
    "location_dict = {}\n",
    "location = \"\"\n",
    "permalink = \"\"\n",
    "title = \"\""
   ]
  },
  {
   "cell_type": "markdown",
   "metadata": {},
   "source": [
    "In the event that this times out with an error, double check to make sure that the location is can be properly geolocated."
   ]
  },
  {
   "cell_type": "code",
   "execution_count": 4,
   "metadata": {
    "collapsed": false,
    "execution": {
     "iopub.execute_input": "2025-09-26T03:08:41.671142Z",
     "iopub.status.busy": "2025-09-26T03:08:41.670954Z",
     "iopub.status.idle": "2025-09-26T03:08:48.234365Z",
     "shell.execute_reply": "2025-09-26T03:08:48.233666Z"
    }
   },
   "outputs": [
    {
     "name": "stdout",
     "output_type": "stream",
     "text": [
      "Climate Change and Health: Understanding Inequalities in a Warming World (scheduled)<br />Online; Ulaan Bataar, Mongolia AH3, Алтанбулаг ᠠᠯᠲᠠᠨ ᠪᠤᠯᠠᠭ, Сэлэнгэ ᠰᠡᠯᠡᠩᠭᠡ, Монгол улс ᠮᠤᠩᠭᠤᠯ ᠤᠯᠤᠰ\n"
     ]
    },
    {
     "name": "stdout",
     "output_type": "stream",
     "text": [
      "Impact of Cumulative Exposure to Extreme Heat – Intergenerational Inequities of Health Burden in Japan<br />UTokyo Center for Climate Solutions (UTCCS) Annual Workshop; Bunkyo, Tokyo, Japan 文京区, 東京都, 日本\n"
     ]
    },
    {
     "name": "stdout",
     "output_type": "stream",
     "text": [
      "Data Analysis using Comprehensive Survey of Living Conditions Survey, Japan<br />Kagoshima Data Science Symposium; Kagoshima, Japan 鹿児島県, 日本\n"
     ]
    },
    {
     "name": "stdout",
     "output_type": "stream",
     "text": [
      "People-Centered Healthcare for Tsirang and Punakha: PEN HEARTS Initiatives<br />Fifth Biennial Health Conference (BHC), Ministry of Health; Tsirang, Bhutan རྩི་རང་རྫོང་ཁག་, འབྲུག་ཡུལ།\n"
     ]
    },
    {
     "name": "stdout",
     "output_type": "stream",
     "text": [
      "Socioeconomic Inequalities in Uptake of Cancer Screening in Japan, 2013–2022<br />83rd Annual Meeting of the Japanese Society of Public Health; Sapporo Convention Center, Sapporo, Japan 札幌コンベンションセンター, 菊水旭山公園通, 菊水8条4, 白石区, 札幌市, 石狩振興局, 北海道, 003-0806, 日本\n"
     ]
    },
    {
     "name": "stdout",
     "output_type": "stream",
     "text": [
      "Oral Health and Dentistry in Bhutan: A Public Health Urgency<br />Oral Health Policy Dialogue, Faculty of Postgraduate Medicine, Khesar Gyalpo University of Medical Sciences of Bhutan; Thimphu, Bhutan (Virtual and In-person) None\n"
     ]
    },
    {
     "name": "stdout",
     "output_type": "stream",
     "text": [
      "Healthcare Landscapes in Bhutan: Past, Present and Future Scopes<br />Bhutan Chevening Alumni Network; Online, Bhutan Bhutan Online Visa, 204, Norzin Lam SE, Norzin, ཐིམ་ཕུ, Chang Gewog, ཐིམ་ཕུ, ཐིམ་ཕུ་རྫོང་ཁག་, 11001, འབྲུག་ཡུལ།\n"
     ]
    }
   ],
   "source": [
    "# Perform geolocation\n",
    "for file in g:\n",
    "    # Read the file\n",
    "    data = frontmatter.load(file)\n",
    "    data = data.to_dict()\n",
    "\n",
    "    # Press on if the location is not present\n",
    "    if 'location' not in data:\n",
    "        continue\n",
    "\n",
    "    # Prepare the description\n",
    "    title = data['title'].strip()\n",
    "    venue = data['venue'].strip()\n",
    "    location = data['location'].strip()\n",
    "    description = f\"{title}<br />{venue}; {location}\"\n",
    "\n",
    "    # Geocode the location and report the status\n",
    "    try:\n",
    "        location_dict[description] = geocoder.geocode(location, timeout=TIMEOUT)\n",
    "        print(description, location_dict[description])\n",
    "    except ValueError as ex:\n",
    "        print(f\"Error: geocode failed on input {location} with message {ex}\")\n",
    "    except GeocoderTimedOut as ex:\n",
    "        print(f\"Error: geocode timed out on input {location} with message {ex}\")\n",
    "    except Exception as ex:\n",
    "        print(f\"An unhandled exception occurred while processing input {location} with message {ex}\")"
   ]
  },
  {
   "cell_type": "code",
   "execution_count": 5,
   "metadata": {
    "collapsed": false,
    "execution": {
     "iopub.execute_input": "2025-09-26T03:08:48.236349Z",
     "iopub.status.busy": "2025-09-26T03:08:48.236173Z",
     "iopub.status.idle": "2025-09-26T03:08:48.243898Z",
     "shell.execute_reply": "2025-09-26T03:08:48.243237Z"
    }
   },
   "outputs": [
    {
     "data": {
      "text/plain": [
       "'Written map to talkmap/'"
      ]
     },
     "execution_count": 5,
     "metadata": {},
     "output_type": "execute_result"
    }
   ],
   "source": [
    "# Save the map\n",
    "m = getorg.orgmap.create_map_obj()\n",
    "getorg.orgmap.output_html_cluster_map(location_dict, folder_name=\"talkmap\", hashed_usernames=False)"
   ]
  },
  {
   "cell_type": "code",
   "execution_count": null,
   "metadata": {
    "collapsed": true
   },
   "outputs": [],
   "source": []
  }
 ],
 "metadata": {
  "anaconda-cloud": {},
  "kernelspec": {
   "display_name": "Python 3",
   "language": "python",
   "name": "python3"
  },
  "language_info": {
   "codemirror_mode": {
    "name": "ipython",
    "version": 3
   },
   "file_extension": ".py",
   "mimetype": "text/x-python",
   "name": "python",
   "nbconvert_exporter": "python",
   "pygments_lexer": "ipython3",
   "version": "3.9.23"
  }
 },
 "nbformat": 4,
 "nbformat_minor": 0
}
